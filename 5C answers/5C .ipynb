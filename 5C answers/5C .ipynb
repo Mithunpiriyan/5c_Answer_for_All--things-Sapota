{
 "cells": [
  {
   "cell_type": "code",
   "execution_count": 12,
   "id": "1458b38e",
   "metadata": {},
   "outputs": [
    {
     "name": "stdout",
     "output_type": "stream",
     "text": [
      "Sales Data:\n",
      "       Date Firm bought from  Buying price   Customer  Selling price  \\\n",
      "0  21/08/23          Vendor6         72.11  Customer7          91.58   \n",
      "1  21/08/23          Vendor4         75.08  Customer7          83.71   \n",
      "2  21/08/23          Vendor7         83.93  Customer2         103.76   \n",
      "3  21/08/23          Vendor7         52.01  Customer3          64.53   \n",
      "4  21/08/23          Vendor2         98.91  Customer5         140.92   \n",
      "\n",
      "   Quantity sold  \n",
      "0             44  \n",
      "1             17  \n",
      "2             15  \n",
      "3              7  \n",
      "4              1  \n"
     ]
    }
   ],
   "source": [
    "import pandas as pd\n",
    "\n",
    "sales_data = pd.read_csv('sales_data_1.csv')\n",
    "\n",
    "print(\"Sales Data:\")\n",
    "print(sales_data.head())\n",
    "\n",
    "sales_data['Profit'] = (sales_data['Selling price'] - sales_data['Buying price']) * sales_data['Quantity sold']"
   ]
  },
  {
   "cell_type": "code",
   "execution_count": 13,
   "id": "3bee5051",
   "metadata": {},
   "outputs": [
    {
     "name": "stdout",
     "output_type": "stream",
     "text": [
      "\n",
      "1. Overall Gross Margin: 31482.749999999996\n"
     ]
    }
   ],
   "source": [
    "overall_gross_margin = sales_data['Profit'].sum()\n",
    "print(\"\\n1. Overall Gross Margin:\", overall_gross_margin)"
   ]
  },
  {
   "cell_type": "code",
   "execution_count": 14,
   "id": "14a29782",
   "metadata": {},
   "outputs": [
    {
     "name": "stdout",
     "output_type": "stream",
     "text": [
      "\n",
      "2. Most Profitable Vendor: Vendor4\n"
     ]
    }
   ],
   "source": [
    "most_profitable_vendor = sales_data.groupby('Firm bought from')['Profit'].sum().idxmax()\n",
    "print(\"\\n2. Most Profitable Vendor:\", most_profitable_vendor)"
   ]
  },
  {
   "cell_type": "code",
   "execution_count": 15,
   "id": "b00c5171",
   "metadata": {},
   "outputs": [
    {
     "name": "stdout",
     "output_type": "stream",
     "text": [
      "\n",
      "3. Least Profitable Customer: Customer3\n"
     ]
    }
   ],
   "source": [
    "least_profitable_customer = sales_data.groupby('Customer')['Profit'].sum().idxmin()\n",
    "print(\"\\n3. Least Profitable Customer:\", least_profitable_customer)"
   ]
  },
  {
   "cell_type": "code",
   "execution_count": 16,
   "id": "c6e8a4d3",
   "metadata": {},
   "outputs": [
    {
     "name": "stdout",
     "output_type": "stream",
     "text": [
      "\n",
      "4. Most Profitable Day of the Week: Monday\n"
     ]
    }
   ],
   "source": [
    "sales_data['Date'] = pd.to_datetime(sales_data['Date'])\n",
    "sales_data['DayOfWeek'] = sales_data['Date'].dt.day_name()\n",
    "most_profitable_day = sales_data.groupby('DayOfWeek')['Profit'].sum().idxmax()\n",
    "print(\"\\n4. Most Profitable Day of the Week:\", most_profitable_day)"
   ]
  },
  {
   "cell_type": "code",
   "execution_count": 17,
   "id": "c4c16e22",
   "metadata": {},
   "outputs": [
    {
     "name": "stdout",
     "output_type": "stream",
     "text": [
      "\n",
      "5. Least Profitable Day of the Week: Sunday\n"
     ]
    }
   ],
   "source": [
    "least_profitable_day = sales_data.groupby('DayOfWeek')['Profit'].sum().idxmin()\n",
    "print(\"\\n5. Least Profitable Day of the Week:\", least_profitable_day)\n"
   ]
  },
  {
   "cell_type": "code",
   "execution_count": 40,
   "id": "8406eda6",
   "metadata": {},
   "outputs": [],
   "source": [
    "sales_data_2 = pd.read_csv('sales_data_2.csv')\n",
    "\n",
    "sales_data_2['Date'] = pd.to_datetime(sales_data_2['Date'])"
   ]
  },
  {
   "cell_type": "code",
   "execution_count": 41,
   "id": "0086390a",
   "metadata": {},
   "outputs": [],
   "source": [
    "sales_data_2['Profit'] = (sales_data_2['Selling price'] - sales_data_2['Buying price']) * sales_data_2['Quantity sold']\n",
    "sales_data_2['Daily_Gross_Profit'] = sales_data_2.groupby('Date')['Profit'].transform('sum')\n",
    "sales_data_2['3-Day_Avg_Gross_Profit'] = sales_data_2['Daily_Gross_Profit'].rolling(3).mean()"
   ]
  },
  {
   "cell_type": "code",
   "execution_count": 42,
   "id": "23e7466c",
   "metadata": {},
   "outputs": [],
   "source": [
    "trend_insights = sales_data_2[['Date', '3-Day_Avg_Gross_Profit']].drop_duplicates()\n"
   ]
  },
  {
   "cell_type": "code",
   "execution_count": 43,
   "id": "ccdb8904",
   "metadata": {},
   "outputs": [],
   "source": [
    "vendor_total_profit = sales_data_2.groupby('Firm bought from')['Profit'].sum()\n",
    "customer_total_profit = sales_data_2.groupby('Customer')['Profit'].sum()"
   ]
  },
  {
   "cell_type": "code",
   "execution_count": 32,
   "id": "0bdc6cb6",
   "metadata": {},
   "outputs": [],
   "source": [
    "\n",
    "buying_price_percentiles = sales_data_2['Buying price'].quantile([0.25, 0.5, 0.75])\n",
    "selling_price_percentiles = sales_data_2['Selling price'].quantile([0.25, 0.5, 0.75])"
   ]
  },
  {
   "cell_type": "code",
   "execution_count": 33,
   "id": "497eefa2",
   "metadata": {},
   "outputs": [],
   "source": [
    "below_25th_percentile = (sales_data_2['Buying price'] < buying_price_percentiles[0.25]) | (sales_data_2['Selling price'] < selling_price_percentiles[0.25])\n",
    "above_75th_percentile = (sales_data_2['Buying price'] > buying_price_percentiles[0.75]) | (sales_data_2['Selling price'] > selling_price_percentiles[0.75])"
   ]
  },
  {
   "cell_type": "code",
   "execution_count": 34,
   "id": "b245a547",
   "metadata": {},
   "outputs": [],
   "source": [
    "initial_gross_margin = sales_data_2['Profit'].sum()\n",
    "sales_data_2_honored_vendor4 = sales_data_2.copy()\n",
    "sales_data_2_honored_vendor4.loc[sales_data_2_honored_vendor4['Firm bought from'] == 'Vendor4', 'Profit'] *= 1.1 \n",
    "updated_gross_margin = sales_data_2_honored_vendor4['Profit'].sum()\n",
    "impact_on_gross_margin = updated_gross_margin - initial_gross_margin"
   ]
  },
  {
   "cell_type": "code",
   "execution_count": 35,
   "id": "7c02ebea",
   "metadata": {},
   "outputs": [],
   "source": [
    "most_profitable_vendor = vendor_total_profit.idxmax()\n",
    "theoretical_max_margin = vendor_total_profit.max()"
   ]
  },
  {
   "cell_type": "code",
   "execution_count": 36,
   "id": "8111582c",
   "metadata": {},
   "outputs": [],
   "source": [
    "price_increase = 1\n",
    "price_decrease = -1\n",
    "sales_data_2_price_increase = sales_data_2.copy()\n",
    "sales_data_2_price_increase['Selling price'] += price_increase\n",
    "sales_data_2_price_decrease = sales_data_2.copy()\n",
    "sales_data_2_price_decrease['Selling price'] += price_decrease\n",
    "\n",
    "profit_before = initial_gross_margin\n",
    "profit_after_increase = sales_data_2_price_increase['Profit'].sum()\n",
    "profit_after_decrease = sales_data_2_price_decrease['Profit'].sum()\n",
    "\n",
    "price_elasticity_increase = (profit_after_increase - profit_before) / (price_increase * profit_before)\n",
    "price_elasticity_decrease = (profit_after_decrease - profit_before) / (price_decrease * profit_before)\n"
   ]
  },
  {
   "cell_type": "code",
   "execution_count": 37,
   "id": "69512f4e",
   "metadata": {},
   "outputs": [
    {
     "name": "stdout",
     "output_type": "stream",
     "text": [
      "6. 3-Day Average of Daily Gross Profit:\n",
      "         Date  3-Day_Avg_Gross_Profit\n",
      "0  2023-08-21                     NaN\n",
      "2  2023-08-21             6847.340000\n",
      "10 2023-08-22             5666.676667\n",
      "11 2023-08-22             4486.013333\n",
      "12 2023-08-22             3305.350000\n",
      "20 2023-08-23             3667.723333\n",
      "21 2023-08-23             4030.096667\n",
      "22 2023-08-23             4392.470000\n",
      "30 2023-08-24             4550.323333\n",
      "31 2023-08-24             4708.176667\n",
      "32 2023-08-24             4866.030000\n",
      "40 2023-08-25             4498.000000\n",
      "41 2023-08-25             4129.970000\n",
      "42 2023-08-25             3761.940000\n",
      "50 2023-08-26             4249.013333\n",
      "51 2023-08-26             4736.086667\n",
      "52 2023-08-26             5223.160000\n",
      "60 2023-08-27             4510.926667\n",
      "61 2023-08-27             3798.693333\n",
      "62 2023-08-27             3086.460000\n",
      "\n",
      "7. Insights into the 3-Day Trend:\n",
      "         Date  3-Day_Avg_Gross_Profit\n",
      "0  2023-08-21                     NaN\n",
      "2  2023-08-21             6847.340000\n",
      "10 2023-08-22             5666.676667\n",
      "11 2023-08-22             4486.013333\n",
      "12 2023-08-22             3305.350000\n",
      "20 2023-08-23             3667.723333\n",
      "21 2023-08-23             4030.096667\n",
      "22 2023-08-23             4392.470000\n",
      "30 2023-08-24             4550.323333\n",
      "31 2023-08-24             4708.176667\n",
      "32 2023-08-24             4866.030000\n",
      "40 2023-08-25             4498.000000\n",
      "41 2023-08-25             4129.970000\n",
      "42 2023-08-25             3761.940000\n",
      "50 2023-08-26             4249.013333\n",
      "51 2023-08-26             4736.086667\n",
      "52 2023-08-26             5223.160000\n",
      "60 2023-08-27             4510.926667\n",
      "61 2023-08-27             3798.693333\n",
      "62 2023-08-27             3086.460000\n",
      "\n",
      "10. Frequency of Prices Below 25th Percentile:\n",
      "False    52\n",
      "True     18\n",
      "dtype: int64\n",
      "\n",
      "10. Frequency of Prices Above 75th Percentile:\n",
      "False    49\n",
      "True     21\n",
      "dtype: int64\n",
      "\n",
      "11. Impact of Honoring Vendor 4 on Gross Margin: 690.331000000002\n",
      "\n",
      "12. Most Profitable Vendor for Strategic Tie-Up: Vendor4\n",
      "Theoretical Max Margin from the Most Profitable Vendor: 6903.309999999999\n",
      "\n",
      "13. Price Elasticity of Sapota:\n",
      "Price Elasticity for Rs. 1 Price Increase: 0.0\n"
     ]
    }
   ],
   "source": [
    "\n",
    "print(\"6. 3-Day Average of Daily Gross Profit:\")\n",
    "print(sales_data_2[['Date', '3-Day_Avg_Gross_Profit']].drop_duplicates())\n",
    "\n",
    "print(\"\\n7. Insights into the 3-Day Trend:\")\n",
    "print(trend_insights)\n",
    "\n",
    "print(\"\\n10. Frequency of Prices Below 25th Percentile:\")\n",
    "print(below_25th_percentile.value_counts())\n",
    "\n",
    "print(\"\\n10. Frequency of Prices Above 75th Percentile:\")\n",
    "print(above_75th_percentile.value_counts())\n",
    "\n",
    "print(\"\\n11. Impact of Honoring Vendor 4 on Gross Margin:\", impact_on_gross_margin)\n",
    "\n",
    "print(\"\\n12. Most Profitable Vendor for Strategic Tie-Up:\", most_profitable_vendor)\n",
    "print(\"Theoretical Max Margin from the Most Profitable Vendor:\", theoretical_max_margin)\n",
    "\n",
    "print(\"\\n13. Price Elasticity of Sapota:\")\n",
    "print(\"Price Elasticity for Rs. 1 Price Increase:\", price_elasticity_increase)"
   ]
  },
  {
   "cell_type": "code",
   "execution_count": null,
   "id": "637ceb4a",
   "metadata": {},
   "outputs": [],
   "source": []
  },
  {
   "cell_type": "code",
   "execution_count": null,
   "id": "c943cf66",
   "metadata": {},
   "outputs": [],
   "source": []
  }
 ],
 "metadata": {
  "kernelspec": {
   "display_name": "Python 3 (ipykernel)",
   "language": "python",
   "name": "python3"
  },
  "language_info": {
   "codemirror_mode": {
    "name": "ipython",
    "version": 3
   },
   "file_extension": ".py",
   "mimetype": "text/x-python",
   "name": "python",
   "nbconvert_exporter": "python",
   "pygments_lexer": "ipython3",
   "version": "3.10.9"
  }
 },
 "nbformat": 4,
 "nbformat_minor": 5
}
